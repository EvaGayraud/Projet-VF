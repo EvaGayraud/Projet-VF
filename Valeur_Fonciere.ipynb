{
 "cells": [
  {
   "cell_type": "code",
   "execution_count": null,
   "metadata": {},
   "outputs": [],
   "source": [
    "\"\"\"Prédire la Valeur fonciere du bien avec les critères suivants : type local, code postal,\n",
    "Nombre pieces principales et Surface reelle bati, montrer les résultats sur un graphique\n",
    "grâce à Plotly\"\"\""
   ]
  },
  {
   "cell_type": "code",
   "execution_count": null,
   "metadata": {},
   "outputs": [],
   "source": [
    "from sklearn.preprocessing import OrdinalEncoder\n",
    "from sklearn.preprocessing import MinMaxScaler\n",
    "import pandas as pd\n",
    "import numpy as np\n",
    "import plotly.express as px"
   ]
  },
  {
   "cell_type": "code",
   "execution_count": null,
   "metadata": {},
   "outputs": [],
   "source": [
    "def load_house_attributes(file):\n",
    "    # get the dataframe\n",
    "    cols = ['Valeur fonciere', 'Surface reelle bati', 'Nombre pieces principales',\n",
    "            'Type local', 'Commune']\n",
    "    df0 = pd.read_csv(file, usecols=cols, low_memory=False, sep=\"|\")\n",
    "    df = df0.copy()\n",
    "\n",
    "    df['Type local'].replace('', np.nan, inplace=True)\n",
    "    df.dropna(inplace=True)\n",
    "\n",
    "    Arrondissements_Paris = ['PARIS 01', 'PARIS 02', 'PARIS 03', 'PARIS 04', 'PARIS 05',\n",
    "                             'PARIS 06', 'PARIS 07', 'PARIS 08', 'PARIS 09', 'PARIS 10',\n",
    "                             'PARIS 11', 'PARIS 12', 'PARIS 13', 'PARIS 14', 'PARIS 15',\n",
    "                             'PARIS 16', 'PARIS 17', 'PARIS 18', 'PARIS 19', 'PARIS 20']\n",
    "    df_paris = df[df['Commune'].isin(Arrondissements_Paris)]\n",
    "    df_paris = df_paris.drop_duplicates()\n",
    "    df_paris['Valeur fonciere'] = df_paris['Valeur fonciere'].str.replace(',', '.')\n",
    "\n",
    "    # remove outliers\n",
    "    df_paris['Valeur fonciere'] = df_paris['Valeur fonciere'].astype(float)\n",
    "    df_paris['Valeur fonciere'] = df_paris[df_paris['Valeur fonciere'] < 100000000]\n",
    "    df_paris = df_paris[df_paris['Surface reelle bati'] >= 10]\n",
    "    df_paris['Code postal'] = df_paris['Code postal'].astype(str)\n",
    "    df_paris['Nombre pieces principales'] = df_paris['Nombre pieces principales'].astype(int)\n",
    "    df_paris = df_paris[df_paris['Nombre pieces principales'] <= 20]\n",
    "\n",
    "    return df_paris"
   ]
  },
  {
   "cell_type": "code",
   "execution_count": null,
   "metadata": {},
   "outputs": [],
   "source": []
  },
  {
   "cell_type": "code",
   "execution_count": null,
   "metadata": {},
   "outputs": [],
   "source": [
    "fig = px.box(df_paris, x='Valeur fonciere', y='Code postal', hover_name='Type local')\n",
    "fig.show()"
   ]
  },
  {
   "cell_type": "code",
   "execution_count": null,
   "metadata": {},
   "outputs": [],
   "source": []
  },
  {
   "cell_type": "code",
   "execution_count": null,
   "metadata": {},
   "outputs": [],
   "source": [
    "def process_house_attributes(df_paris):\n",
    "\n",
    "    # we would like to exploit continuous data from 0 to 1\n",
    "    continuous = df_paris[[\"Surface reelle bati\"], [\"Nombre pieces principales\"]]\n",
    "    cs = MinMaxScaler()\n",
    "\n",
    "    Continuous = cs.fit_transform(train[continuous])\n",
    "\n",
    "    # put into categorical data the qualitative variables\n",
    "    CategoricalBin = OrdinalEncoder().fit_transform(df_paris[\"Code postal\"], df_paris[\"Type Local\"])\n",
    "    Categorical = CategoricalBin.transform(df_paris[\"Code postal\"], df_paris[\"Type Local\"])\n",
    "\n",
    "    # construct and concatenate the training and testing categorical and continuous dataset\n",
    "    X = np.hstack([Categorical, Continuous])\n",
    "\n",
    "    # return the concatenated data\n",
    "    return X"
   ]
  },
  {
   "cell_type": "code",
   "execution_count": null,
   "metadata": {},
   "outputs": [],
   "source": [
    "labels = np.array(X['Valeur fonciere'])\n",
    "list_attributs = list(X.columns)\n",
    "attributs = np.array(X)"
   ]
  },
  {
   "cell_type": "code",
   "execution_count": null,
   "metadata": {},
   "outputs": [],
   "source": [
    "from sklearn.model_selection import train_test_split"
   ]
  },
  {
   "cell_type": "code",
   "execution_count": null,
   "metadata": {},
   "outputs": [],
   "source": [
    "train_x, test_x, train_y, test_y = train_test_split(X, labels, test_size = 0.25, random_state = 42)"
   ]
  },
  {
   "cell_type": "code",
   "execution_count": null,
   "metadata": {},
   "outputs": [],
   "source": [
    "print('Training Features Shape:', train_x.shape)\n",
    "print('Training Labels Shape:', train_y.shape)\n",
    "print('Testing Features Shape:', test_x.shape)\n",
    "print('Testing Labels Shape:', test_y.shape)"
   ]
  },
  {
   "cell_type": "code",
   "execution_count": null,
   "metadata": {},
   "outputs": [],
   "source": [
    "from sklearn.ensemble import RandomForestRegressor"
   ]
  },
  {
   "cell_type": "code",
   "execution_count": null,
   "metadata": {},
   "outputs": [],
   "source": [
    "rf = RandomForestRegressor(n_estimators = 1000, random_state = 42)\n",
    "rf.fit(train_x, train_y)"
   ]
  },
  {
   "cell_type": "code",
   "execution_count": null,
   "metadata": {},
   "outputs": [],
   "source": [
    "predictions = rf.predict(test_x)\n",
    "errors = abs(predictions - test_y)\n",
    "print('Mean Absolute Error:', round(np.mean(errors), 2), 'euros.')"
   ]
  },
  {
   "cell_type": "code",
   "execution_count": null,
   "metadata": {},
   "outputs": [],
   "source": [
    "import argparse\n",
    "# construct the argument parse and parse the arguments\n",
    "ap = argparse.ArgumentParser()\n",
    "ap.add_argument(\"-n\", \"--name\", required=True,\n",
    "\thelp=\"give house attributes to predict the value of a property\")\n",
    "args = vars(ap.parse_args())"
   ]
  }
 ],
 "metadata": {
  "kernelspec": {
   "display_name": "Python 3",
   "language": "python",
   "name": "python3"
  },
  "language_info": {
   "codemirror_mode": {
    "name": "ipython",
    "version": 3
   },
   "file_extension": ".py",
   "mimetype": "text/x-python",
   "name": "python",
   "nbconvert_exporter": "python",
   "pygments_lexer": "ipython3",
   "version": "3.8.3"
  }
 },
 "nbformat": 4,
 "nbformat_minor": 4
}
